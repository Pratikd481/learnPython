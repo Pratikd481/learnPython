{
 "cells": [
  {
   "cell_type": "markdown",
   "metadata": {},
   "source": [
    "# Iterating"
   ]
  },
  {
   "cell_type": "markdown",
   "metadata": {},
   "source": [
    "## Using for loop"
   ]
  },
  {
   "cell_type": "code",
   "execution_count": 2,
   "metadata": {},
   "outputs": [
    {
     "name": "stdout",
     "output_type": "stream",
     "text": [
      "1\n",
      "3\n",
      "5\n",
      "6\n",
      "7\n",
      "4\n",
      "8\n",
      "9\n"
     ]
    }
   ],
   "source": [
    "import numpy as np\n",
    "\n",
    "var = np.array([1,3,5,6,7,4,8,9])\n",
    "\n",
    "for i in var :\n",
    "    print(i)"
   ]
  },
  {
   "cell_type": "code",
   "execution_count": 9,
   "metadata": {},
   "outputs": [
    {
     "name": "stdout",
     "output_type": "stream",
     "text": [
      "[[1 3 4 5 6]\n",
      " [1 5 7 8 9]]\n",
      "\n",
      "[[1 1]\n",
      " [3 5]\n",
      " [4 7]\n",
      " [5 8]\n",
      " [6 9]]\n",
      "\n",
      "[1 3 4 5 6]\n",
      "[1 5 7 8 9]\n",
      "\n",
      "[1 1]\n",
      "[3 5]\n",
      "[4 7]\n",
      "[5 8]\n",
      "[6 9]\n",
      "\n",
      "1\n",
      "3\n",
      "4\n",
      "5\n",
      "6\n",
      "1\n",
      "5\n",
      "7\n",
      "8\n",
      "9\n",
      "\n"
     ]
    }
   ],
   "source": [
    "import numpy as np\n",
    "\n",
    "var  = np.array([[1,3,4,5,6],[1,5,7,8,9]])\n",
    "\n",
    "print(var)\n",
    "print()\n",
    "print(var.T)\n",
    "print()\n",
    "for i in var :\n",
    "    print(i)  # print each row\n",
    "print()\n",
    "for i in var.T :\n",
    "    print(i)  # print each column\n",
    "\n",
    "print()\n",
    "for j in var :\n",
    "    for i in j :\n",
    "        print(i)\n",
    "print()\n",
    "    "
   ]
  },
  {
   "cell_type": "markdown",
   "metadata": {},
   "source": [
    "## Without Loop"
   ]
  },
  {
   "cell_type": "code",
   "execution_count": 13,
   "metadata": {},
   "outputs": [
    {
     "name": "stdout",
     "output_type": "stream",
     "text": [
      "[[1 3 4 5 6]\n",
      " [1 5 7 8 9]]\n",
      "\n",
      "1\n",
      "3\n",
      "4\n",
      "5\n",
      "6\n",
      "1\n",
      "5\n",
      "7\n",
      "8\n",
      "9\n",
      "\n",
      "(0, 0) 1\n",
      "(0, 1) 3\n",
      "(0, 2) 4\n",
      "(0, 3) 5\n",
      "(0, 4) 6\n",
      "(1, 0) 1\n",
      "(1, 1) 5\n",
      "(1, 2) 7\n",
      "(1, 3) 8\n",
      "(1, 4) 9\n"
     ]
    }
   ],
   "source": [
    "import numpy as np\n",
    "\n",
    "var  = np.array([[1,3,4,5,6],[1,5,7,8,9]])\n",
    "\n",
    "print(var)\n",
    "print()\n",
    "\n",
    "for i in np.nditer(var) :\n",
    "    print(i)\n",
    "print()\n",
    "\n",
    "for d, i in np.ndenumerate(var) :\n",
    "    print(d,i)"
   ]
  },
  {
   "cell_type": "code",
   "execution_count": null,
   "metadata": {},
   "outputs": [],
   "source": []
  }
 ],
 "metadata": {
  "kernelspec": {
   "display_name": "base",
   "language": "python",
   "name": "python3"
  },
  "language_info": {
   "codemirror_mode": {
    "name": "ipython",
    "version": 3
   },
   "file_extension": ".py",
   "mimetype": "text/x-python",
   "name": "python",
   "nbconvert_exporter": "python",
   "pygments_lexer": "ipython3",
   "version": "3.12.7"
  }
 },
 "nbformat": 4,
 "nbformat_minor": 2
}
