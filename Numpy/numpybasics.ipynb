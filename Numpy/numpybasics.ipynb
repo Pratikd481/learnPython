{
 "cells": [
  {
   "cell_type": "markdown",
   "id": "202a827e-7446-40e5-a527-876a17ab680b",
   "metadata": {
    "panel-layout": {
     "height": 51.1406,
     "visible": true,
     "width": 100
    }
   },
   "source": [
    "# Basics of  numpy\n",
    "___"
   ]
  },
  {
   "cell_type": "code",
   "execution_count": 2,
   "id": "776541c7-3ea8-4b68-99ca-a559a7799e04",
   "metadata": {
    "scrolled": true
   },
   "outputs": [
    {
     "name": "stdout",
     "output_type": "stream",
     "text": [
      "Defaulting to user installation because normal site-packages is not writeable\n",
      "Looking in indexes: https://pypi.org/simple, https://pypi.ngc.nvidia.com\n",
      "Requirement already satisfied: numpy in c:\\programdata\\anaconda3\\lib\\site-packages (1.26.4)\n",
      "Note: you may need to restart the kernel to use updated packages.\n"
     ]
    }
   ],
   "source": [
    "pip install numpy"
   ]
  },
  {
   "cell_type": "markdown",
   "id": "096871f5-a03c-4d7d-9daa-df8bc13e57c5",
   "metadata": {
    "panel-layout": {
     "height": 10,
     "visible": true,
     "width": 100
    }
   },
   "source": [
    "## First example of creating numpy array\n",
    "---"
   ]
  },
  {
   "cell_type": "code",
   "execution_count": 6,
   "id": "55c035ed-79db-46db-b93f-64a0c00bb5ed",
   "metadata": {
    "panel-layout": {
     "height": 0,
     "visible": true,
     "width": 100
    }
   },
   "outputs": [
    {
     "name": "stdout",
     "output_type": "stream",
     "text": [
      "[1 2 3]\n",
      "<class 'numpy.ndarray'>\n"
     ]
    }
   ],
   "source": [
    "import numpy as np\n",
    "n =  np.array((1,2,3))\n",
    "print(n)\n",
    "print(type(n))"
   ]
  },
  {
   "cell_type": "code",
   "execution_count": 13,
   "id": "26621215-3832-4285-9987-a4ff3127cb07",
   "metadata": {
    "panel-layout": {
     "height": 0,
     "visible": true,
     "width": 100
    }
   },
   "outputs": [
    {
     "name": "stdout",
     "output_type": "stream",
     "text": [
      "[1 3 3]\n",
      "<class 'numpy.ndarray'>\n"
     ]
    }
   ],
   "source": [
    "n = np.array([1,3,3])\n",
    "print(n)\n",
    "print(type(n))"
   ]
  },
  {
   "cell_type": "code",
   "execution_count": null,
   "id": "b3981ba6-fdd1-41c2-972c-5cf3c1ab122f",
   "metadata": {},
   "outputs": [],
   "source": []
  },
  {
   "cell_type": "markdown",
   "id": "fc3a79b4-04d3-4bd6-a9d0-c8789fa2f788",
   "metadata": {},
   "source": [
    "## Creating multiple dimention array in numpy\n",
    "---"
   ]
  },
  {
   "cell_type": "code",
   "execution_count": 23,
   "id": "c08bcfc9-68b5-429f-ad7a-2f66dfe194cc",
   "metadata": {},
   "outputs": [
    {
     "name": "stdout",
     "output_type": "stream",
     "text": [
      "25\n",
      "Dimentions: 0\n"
     ]
    }
   ],
   "source": [
    "n = np.array(25)\n",
    "print(n)\n",
    "print(\"Dimentions:\", n.ndim)"
   ]
  },
  {
   "cell_type": "code",
   "execution_count": 27,
   "id": "2142c11e-1723-444d-bed4-3361848d38cf",
   "metadata": {},
   "outputs": [
    {
     "name": "stdout",
     "output_type": "stream",
     "text": [
      "[1 1 2]\n",
      "Dimentions: 1\n"
     ]
    }
   ],
   "source": [
    "n = np.array([1,1,2])\n",
    "print(n)\n",
    "print(\"Dimentions:\", n.ndim)"
   ]
  },
  {
   "cell_type": "code",
   "execution_count": 31,
   "id": "924c703c-38ae-47fd-b95e-d9166ea37f54",
   "metadata": {},
   "outputs": [
    {
     "name": "stdout",
     "output_type": "stream",
     "text": [
      "[[1 1 2]\n",
      " [1 4 5]]\n",
      "Dimentions: 2\n"
     ]
    }
   ],
   "source": [
    "n = np.array([[1,1,2],[1,4,5]])\n",
    "print(n)\n",
    "print(\"Dimentions:\", n.ndim)"
   ]
  }
 ],
 "metadata": {
  "kernelspec": {
   "display_name": "Python [conda env:base] *",
   "language": "python",
   "name": "conda-base-py"
  },
  "language_info": {
   "codemirror_mode": {
    "name": "ipython",
    "version": 3
   },
   "file_extension": ".py",
   "mimetype": "text/x-python",
   "name": "python",
   "nbconvert_exporter": "python",
   "pygments_lexer": "ipython3",
   "version": "3.12.7"
  },
  "panel-cell-order": [
   "202a827e-7446-40e5-a527-876a17ab680b",
   "096871f5-a03c-4d7d-9daa-df8bc13e57c5",
   "55c035ed-79db-46db-b93f-64a0c00bb5ed",
   "26621215-3832-4285-9987-a4ff3127cb07"
  ]
 },
 "nbformat": 4,
 "nbformat_minor": 5
}
