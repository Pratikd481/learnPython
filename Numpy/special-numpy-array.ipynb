{
 "cells": [
  {
   "cell_type": "markdown",
   "id": "8a57eb9a-1d12-414a-85c9-324a76209246",
   "metadata": {},
   "source": [
    "# Zeros"
   ]
  },
  {
   "cell_type": "code",
   "execution_count": 5,
   "id": "30f66efc-2377-461b-8344-185f09ecbe22",
   "metadata": {},
   "outputs": [
    {
     "name": "stdout",
     "output_type": "stream",
     "text": [
      "[0. 0. 0. 0.]\n",
      "1\n"
     ]
    }
   ],
   "source": [
    "import numpy as np\n",
    "ar_zero = np.zeros(4)\n",
    "print(ar_zero)\n",
    "print(ar_zero.ndim)"
   ]
  },
  {
   "cell_type": "markdown",
   "id": "a630db20-0fb9-4485-b513-c5d6812829f3",
   "metadata": {},
   "source": [
    "## 2 dimentional zeros"
   ]
  },
  {
   "cell_type": "code",
   "execution_count": 13,
   "id": "193d61fe-d5f3-488e-9f95-46d787f30bb3",
   "metadata": {},
   "outputs": [
    {
     "name": "stdout",
     "output_type": "stream",
     "text": [
      "[[0. 0. 0. 0.]\n",
      " [0. 0. 0. 0.]\n",
      " [0. 0. 0. 0.]]\n",
      "2\n"
     ]
    }
   ],
   "source": [
    "ar2_zeros = np.zeros((3,4))\n",
    "print(ar2_zeros)\n",
    "print(ar2_zeros.ndim)"
   ]
  },
  {
   "cell_type": "markdown",
   "id": "596c1b08-c6ae-4b2e-945f-803fa52bf267",
   "metadata": {},
   "source": [
    "## 3 dimentional zeros"
   ]
  },
  {
   "cell_type": "code",
   "execution_count": 16,
   "id": "ccf0e88b-94e6-4740-9914-7bf68beb515d",
   "metadata": {},
   "outputs": [
    {
     "name": "stdout",
     "output_type": "stream",
     "text": [
      "[[[0. 0.]\n",
      "  [0. 0.]\n",
      "  [0. 0.]\n",
      "  [0. 0.]]\n",
      "\n",
      " [[0. 0.]\n",
      "  [0. 0.]\n",
      "  [0. 0.]\n",
      "  [0. 0.]]\n",
      "\n",
      " [[0. 0.]\n",
      "  [0. 0.]\n",
      "  [0. 0.]\n",
      "  [0. 0.]]]\n",
      "3\n"
     ]
    }
   ],
   "source": [
    "ar3_zeros = np.zeros((3,4,2))\n",
    "print(ar3_zeros)\n",
    "print(ar3_zeros.ndim)"
   ]
  },
  {
   "cell_type": "code",
   "execution_count": null,
   "id": "cae9ced9-dd98-43f3-88c2-a7ce9bc53f4c",
   "metadata": {},
   "outputs": [],
   "source": []
  },
  {
   "cell_type": "markdown",
   "id": "565ac0c0-80d0-4710-a70a-224bef5dea13",
   "metadata": {},
   "source": [
    "# Onces"
   ]
  },
  {
   "cell_type": "code",
   "execution_count": 9,
   "id": "8ff2eab5-000b-4849-b1b3-e1a8075f3a14",
   "metadata": {},
   "outputs": [
    {
     "name": "stdout",
     "output_type": "stream",
     "text": [
      "[1. 1. 1. 1.]\n"
     ]
    }
   ],
   "source": [
    "arra_once  = np.ones(4)\n",
    "print(arra_once)"
   ]
  },
  {
   "cell_type": "markdown",
   "id": "2edde250-f44a-4e09-aa3a-acfb8727fdbe",
   "metadata": {},
   "source": [
    "# Empty"
   ]
  },
  {
   "cell_type": "code",
   "execution_count": 15,
   "id": "a2bd2494-123a-4768-8ac5-cb72708d314a",
   "metadata": {},
   "outputs": [
    {
     "name": "stdout",
     "output_type": "stream",
     "text": [
      "[1. 1. 1. 1.]\n"
     ]
    }
   ],
   "source": [
    "ar_mt = np.empty(4)\n",
    "print(ar_mt)"
   ]
  },
  {
   "cell_type": "markdown",
   "id": "ad85e480-7c5c-43be-a379-31d264b99dfa",
   "metadata": {},
   "source": [
    "# Range"
   ]
  },
  {
   "cell_type": "code",
   "execution_count": 20,
   "id": "7bad19f9-b532-4497-b429-8f87cf066707",
   "metadata": {},
   "outputs": [
    {
     "name": "stdout",
     "output_type": "stream",
     "text": [
      "[0 1 2 3 4]\n"
     ]
    }
   ],
   "source": [
    "ar_range =  np.arange(5)\n",
    "print(ar_range)"
   ]
  },
  {
   "cell_type": "markdown",
   "id": "c7cb0a62-822d-4c0d-b928-3d381598d21e",
   "metadata": {},
   "source": [
    "# Diagonal"
   ]
  },
  {
   "cell_type": "code",
   "execution_count": 36,
   "id": "a0e6aa97-ef79-47f0-a282-8dda26a9e07c",
   "metadata": {},
   "outputs": [
    {
     "name": "stdout",
     "output_type": "stream",
     "text": [
      "[[1. 0. 0. 0. 0.]\n",
      " [0. 1. 0. 0. 0.]\n",
      " [0. 0. 1. 0. 0.]]\n"
     ]
    }
   ],
   "source": [
    "ar_diagonal = np.eye(3,5)\n",
    "print(ar_diagonal)"
   ]
  },
  {
   "cell_type": "markdown",
   "id": "507ec8b1-17be-4883-9421-bd3720cdd789",
   "metadata": {},
   "source": [
    "# Linespace"
   ]
  },
  {
   "cell_type": "code",
   "execution_count": 46,
   "id": "9a6b8467-988a-4e33-9202-bf141f21d716",
   "metadata": {},
   "outputs": [
    {
     "name": "stdout",
     "output_type": "stream",
     "text": [
      "[ 1.    5.75 10.5  15.25 20.  ]\n"
     ]
    }
   ],
   "source": [
    "ar_lin = np.linspace(1,20, num  =5)\n",
    "print(ar_lin)"
   ]
  }
 ],
 "metadata": {
  "kernelspec": {
   "display_name": "Python [conda env:base] *",
   "language": "python",
   "name": "conda-base-py"
  },
  "language_info": {
   "codemirror_mode": {
    "name": "ipython",
    "version": 3
   },
   "file_extension": ".py",
   "mimetype": "text/x-python",
   "name": "python",
   "nbconvert_exporter": "python",
   "pygments_lexer": "ipython3",
   "version": "3.12.7"
  }
 },
 "nbformat": 4,
 "nbformat_minor": 5
}
