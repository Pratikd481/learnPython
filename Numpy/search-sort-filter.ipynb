{
 "cells": [
  {
   "cell_type": "markdown",
   "metadata": {},
   "source": [
    "# Search"
   ]
  },
  {
   "cell_type": "code",
   "execution_count": 2,
   "metadata": {},
   "outputs": [
    {
     "name": "stdout",
     "output_type": "stream",
     "text": [
      "(array([1], dtype=int64),)\n",
      "(array([1, 3, 5, 7, 9], dtype=int64),)\n"
     ]
    }
   ],
   "source": [
    "import numpy as np\n",
    "\n",
    "var = np.array([1, 2, 3, 4, 5, 6, 7, 8, 9, 10])\n",
    "\n",
    "x = np.where(var == 2) # returns the index of the element that is equal to 2\n",
    "y = np.where(var % 2 == 0) # returns the index of the elements that are even\n",
    "\n",
    "print(x) # prints (array([1]),) because the element is at index 1\n",
    "print(y) # prints (array([1, 3, 5, 7, 9]),) because the even elements are at indexes 1, 3, 5, 7, 9"
   ]
  },
  {
   "cell_type": "markdown",
   "metadata": {},
   "source": [
    "## Search in sorted array"
   ]
  },
  {
   "cell_type": "markdown",
   "metadata": {},
   "source": [
    "![searchsorted](images/searchsorted.png)"
   ]
  },
  {
   "cell_type": "code",
   "execution_count": 4,
   "metadata": {},
   "outputs": [
    {
     "name": "stdout",
     "output_type": "stream",
     "text": [
      "4\n",
      "[4 5 6]\n"
     ]
    }
   ],
   "source": [
    "import numpy as np\n",
    "\n",
    "var = np.array([1, 2, 3, 4, 6, 7, 8, 9, 10])\n",
    "\n",
    "x = np.searchsorted(var, 5) # returns the index where 5 should be inserted to maintain the order of the array\n",
    "\n",
    "y = np.searchsorted(var, [5,6,7], side='right') # returns the index where 5, 6, 7 should be inserted to maintain the order of the array\n",
    "\n",
    "print(x) # prints 4 because 5 should be inserted at index 4 to maintain the order of the array\n",
    "print(y) # prints [4 5 6] because 5, 6, 7 should be inserted at indexes 4, 5, 6 to maintain the order of the array"
   ]
  },
  {
   "cell_type": "markdown",
   "metadata": {},
   "source": [
    "# Sort"
   ]
  },
  {
   "cell_type": "code",
   "execution_count": 5,
   "metadata": {},
   "outputs": [
    {
     "name": "stdout",
     "output_type": "stream",
     "text": [
      "[ 1  2  3  5  6  8  9 10 27]\n"
     ]
    }
   ],
   "source": [
    "import numpy as np\n",
    "\n",
    "var  = np.array([2,6,1,9,10,3,27,8,5])\n",
    "\n",
    "x = np.sort(var) # returns the sorted array\n",
    "\n",
    "print(x) # prints [ 1  2  3  5  6  8  9 10 27]"
   ]
  },
  {
   "cell_type": "code",
   "execution_count": 7,
   "metadata": {},
   "outputs": [
    {
     "name": "stdout",
     "output_type": "stream",
     "text": [
      "['a' 'b' 'c' 'd' 'e' 'f' 'g' 'h' 'k' 'z']\n",
      "[0 2 4 5 6 7 8 9 1 3]\n"
     ]
    }
   ],
   "source": [
    "import numpy as np\n",
    "\n",
    "var =  np.array([\"a\",\"k\",\"b\",\"z\",\"c\",\"d\",\"e\",\"f\",\"g\",\"h\"])\n",
    "\n",
    "x = np.sort(var) # returns the sorted array\n",
    "y = np.argsort(var) # returns the indexes of the elements after sorting\n",
    "print(x) # prints ['a' 'b' 'c' 'd' 'e' 'f' 'g' 'h' 'k' 'z']\n",
    "print(y) # prints [0 2 4 5 6 7 8 9 1 3]"
   ]
  },
  {
   "cell_type": "code",
   "execution_count": 15,
   "metadata": {},
   "outputs": [
    {
     "name": "stdout",
     "output_type": "stream",
     "text": [
      "[[1 2]\n",
      " [3 4]\n",
      " [6 5]]\n",
      "\n",
      "[[1 5]\n",
      " [2 3]\n",
      " [4 6]]\n"
     ]
    }
   ],
   "source": [
    "import numpy as np\n",
    "\n",
    "var = np.array([[1,5],[3,2],[6,4]])\n",
    "\n",
    "x = np.sort(var, axis=0) # sorts the array along the first axis\n",
    "y = np.sort(var, axis=1) # sorts the array along the second axis\n",
    "\n",
    "print(x) # prints [[1 2]\n",
    "            #         [3 4]\n",
    "            #         [6 5]]\n",
    "      \n",
    "print() # prints an empty line      \n",
    "print(y) # prints [[1 5]"
   ]
  },
  {
   "cell_type": "markdown",
   "metadata": {},
   "source": [
    "# Filter array"
   ]
  },
  {
   "cell_type": "markdown",
   "metadata": {},
   "source": [
    "![filterarray](images/filterarray.png)"
   ]
  },
  {
   "cell_type": "code",
   "execution_count": 16,
   "metadata": {},
   "outputs": [
    {
     "name": "stdout",
     "output_type": "stream",
     "text": [
      "[1 3 5]\n"
     ]
    }
   ],
   "source": [
    "import numpy as np\n",
    "\n",
    "var = np.array([1, 2, 3, 4, 5])\n",
    "\n",
    "fileter = [True, False, True, False, True]\n",
    "\n",
    "x = var[fileter] # returns the elements that are True\n",
    "\n",
    "print(x) # prints [1 3 5]"
   ]
  },
  {
   "cell_type": "code",
   "execution_count": null,
   "metadata": {},
   "outputs": [],
   "source": []
  }
 ],
 "metadata": {
  "kernelspec": {
   "display_name": "base",
   "language": "python",
   "name": "python3"
  },
  "language_info": {
   "codemirror_mode": {
    "name": "ipython",
    "version": 3
   },
   "file_extension": ".py",
   "mimetype": "text/x-python",
   "name": "python",
   "nbconvert_exporter": "python",
   "pygments_lexer": "ipython3",
   "version": "3.12.7"
  }
 },
 "nbformat": 4,
 "nbformat_minor": 2
}
