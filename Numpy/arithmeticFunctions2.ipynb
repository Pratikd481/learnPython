{
 "cells": [
  {
   "cell_type": "markdown",
   "metadata": {},
   "source": [
    "![arithmeticfucntions](images/arithmeticFunctions2.png)"
   ]
  },
  {
   "cell_type": "markdown",
   "metadata": {},
   "source": [
    "# Shuffle"
   ]
  },
  {
   "cell_type": "code",
   "execution_count": 7,
   "metadata": {},
   "outputs": [
    {
     "name": "stdout",
     "output_type": "stream",
     "text": [
      "[3 2 4 1 5]\n"
     ]
    }
   ],
   "source": [
    "import numpy as np\n",
    "\n",
    "var = np.array([1, 2, 3, 4, 5])\n",
    "\n",
    "np.random.shuffle(var) # shuffle the array\n",
    "\n",
    "print(var) # print the shuffled array"
   ]
  },
  {
   "cell_type": "code",
   "execution_count": 22,
   "metadata": {},
   "outputs": [
    {
     "name": "stdout",
     "output_type": "stream",
     "text": [
      "[ 1  2  3  4  5  6  7  8  9 10]\n",
      "<class 'numpy.ndarray'>\n",
      "\n",
      "(array([ 1,  2,  3,  4,  5,  6,  7,  8,  9, 10]), array([ 2,  0, 12, 11,  3,  4,  5,  6,  7,  8], dtype=int64))\n",
      "<class 'tuple'>\n",
      "\n",
      "(array([ 1,  2,  3,  4,  5,  6,  7,  8,  9, 10]), array([2, 3, 1, 1, 2, 2, 1, 1, 1, 1], dtype=int64))\n",
      "<class 'tuple'>\n"
     ]
    }
   ],
   "source": [
    "import numpy as np\n",
    "\n",
    "var = np.array([2,2,1,5,6,7,8,9,10,6,5,4,3,2,1])\n",
    "\n",
    "x = np.unique(var) # get the unique values\n",
    "y = np.unique(var, return_index=True) # get the unique values and their indices\n",
    "z = np.unique(var, return_counts=True) # get the unique values and their counts\n",
    "\n",
    "print(x) # print the unique values\n",
    "print(type(x)) # print the data type of the unique values\n",
    "print()\n",
    "print(y) # print the unique values and their indices\n",
    "print(type(y)) # print the data type of the indices\n",
    "print()\n",
    "print(z) # print the unique values and their counts\n",
    "print(type(z)) # print the data type of the counts"
   ]
  },
  {
   "cell_type": "code",
   "execution_count": 24,
   "metadata": {},
   "outputs": [
    {
     "name": "stdout",
     "output_type": "stream",
     "text": [
      "[[ 1  2  3  4  5]\n",
      " [ 6  7  8  9 10]]\n",
      "\n",
      "[[ 1  2]\n",
      " [ 3  4]\n",
      " [ 5  6]\n",
      " [ 7  8]\n",
      " [ 9 10]]\n"
     ]
    }
   ],
   "source": [
    "import numpy as np\n",
    "\n",
    "var = np.array([1, 2, 3, 4, 5, 6, 7, 8, 9, 10])\n",
    "\n",
    "y = np.resize(var, (2, 5)) # resize the array to 2x5\n",
    "z = np.resize(var, (5, 2)) # resize the array to 5x2\n",
    "\n",
    "print(y) # print the resized array\n",
    "print()\n",
    "print(z) # print the resized array"
   ]
  },
  {
   "cell_type": "markdown",
   "metadata": {},
   "source": [
    "![flatten](images/flatten.png)"
   ]
  },
  {
   "cell_type": "code",
   "execution_count": 30,
   "metadata": {},
   "outputs": [
    {
     "name": "stdout",
     "output_type": "stream",
     "text": [
      "[[ 1  2  3  4  5]\n",
      " [ 6  7  8  9 10]]\n",
      "[ 1  6  2  7  3  8  4  9  5 10]\n"
     ]
    }
   ],
   "source": [
    "import numpy as np\n",
    "\n",
    "var = np.array([1, 2, 3, 4, 5, 6, 7, 8, 9, 10])\n",
    "y = np.resize(var, (2, 5)) # resize the array to 2x5\n",
    "\n",
    "z = y.flatten(order=\"F\") # flatten the array\n",
    "\n",
    "print(y) # print the resized array\n",
    "print(z) # print the flattened array"
   ]
  },
  {
   "cell_type": "code",
   "execution_count": null,
   "metadata": {},
   "outputs": [],
   "source": []
  }
 ],
 "metadata": {
  "kernelspec": {
   "display_name": "base",
   "language": "python",
   "name": "python3"
  },
  "language_info": {
   "codemirror_mode": {
    "name": "ipython",
    "version": 3
   },
   "file_extension": ".py",
   "mimetype": "text/x-python",
   "name": "python",
   "nbconvert_exporter": "python",
   "pygments_lexer": "ipython3",
   "version": "3.12.7"
  }
 },
 "nbformat": 4,
 "nbformat_minor": 2
}
