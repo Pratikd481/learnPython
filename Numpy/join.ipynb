{
 "cells": [
  {
   "cell_type": "markdown",
   "metadata": {},
   "source": [
    "# Join"
   ]
  },
  {
   "cell_type": "markdown",
   "metadata": {},
   "source": [
    "![Join](images/Join.png)"
   ]
  },
  {
   "cell_type": "code",
   "execution_count": 5,
   "metadata": {},
   "outputs": [
    {
     "name": "stdout",
     "output_type": "stream",
     "text": [
      "[1 2 3 4 5 6 7 8]\n"
     ]
    }
   ],
   "source": [
    "import numpy as np \n",
    "\n",
    "var1 = np.array([1,2,3,4])\n",
    "var2 = np.array([5,6,7,8])\n",
    "\n",
    "ar = np.concatenate((var1,var2)) #concatenates the two arrays\n",
    "\n",
    "print(ar)"
   ]
  },
  {
   "cell_type": "code",
   "execution_count": 7,
   "metadata": {},
   "outputs": [
    {
     "name": "stdout",
     "output_type": "stream",
     "text": [
      "[[1 2]\n",
      " [3 4]]\n",
      "\n",
      "[[5 6]\n",
      " [7 8]]\n",
      "\n",
      "[[1 2 5 6]\n",
      " [3 4 7 8]]\n",
      "\n",
      "[[1 2]\n",
      " [3 4]\n",
      " [5 6]\n",
      " [7 8]]\n",
      "\n"
     ]
    }
   ],
   "source": [
    "import numpy as np \n",
    "\n",
    "var1 = np.array([[1,2],[3,4]])\n",
    "var2 = np.array([[5,6],[7,8]])\n",
    "\n",
    "ar = np.concatenate((var1,var2),axis=1) #axis=1 means column wise concatenation\n",
    "\n",
    "ar2 = np.concatenate((var1,var2),axis=0) #axis=0 means row wise concatenation\n",
    "print(var1)\n",
    "print()\n",
    "\n",
    "print(var2)\n",
    "print()\n",
    "\n",
    "print(ar)\n",
    "print()\n",
    "\n",
    "print(ar2)\n",
    "print()"
   ]
  },
  {
   "cell_type": "code",
   "execution_count": 14,
   "metadata": {},
   "outputs": [
    {
     "name": "stdout",
     "output_type": "stream",
     "text": [
      "[[1 2 3 4]\n",
      " [5 6 7 8]]\n",
      "\n",
      "[[1 5]\n",
      " [2 6]\n",
      " [3 7]\n",
      " [4 8]]\n",
      "\n",
      "[1 2 3 4 5 6 7 8]\n",
      "\n",
      "[[1 2 3 4]\n",
      " [5 6 7 8]]\n",
      "\n",
      "[[[1 5]\n",
      "  [2 6]\n",
      "  [3 7]\n",
      "  [4 8]]]\n",
      "\n"
     ]
    }
   ],
   "source": [
    "import numpy as np \n",
    "\n",
    "var1 = np.array([1,2,3,4])\n",
    "var2 = np.array([5,6,7,8])\n",
    "\n",
    "ar = np.stack((var1,var2), axis=0) ##stacks the two arrays\n",
    "ar5 = np.stack((var1,var2), axis=1) ##stacks the two arrays\n",
    "\n",
    "ar2 = np.hstack((var1,var2)) #stacks the two arrays horizontally\n",
    "\n",
    "ar3 = np.vstack((var1,var2)) #stacks the two arrays vertically\n",
    "\n",
    "ar4 = np.dstack((var1,var2)) #stacks the two arrays depth wise\n",
    "\n",
    "print(ar)\n",
    "print()\n",
    "\n",
    "print(ar5)\n",
    "print()\n",
    "\n",
    "print(ar2)\n",
    "print()\n",
    "\n",
    "print(ar3)\n",
    "print()\n",
    "\n",
    "print(ar4) \n",
    "print()"
   ]
  }
 ],
 "metadata": {
  "kernelspec": {
   "display_name": "base",
   "language": "python",
   "name": "python3"
  },
  "language_info": {
   "codemirror_mode": {
    "name": "ipython",
    "version": 3
   },
   "file_extension": ".py",
   "mimetype": "text/x-python",
   "name": "python",
   "nbconvert_exporter": "python",
   "pygments_lexer": "ipython3",
   "version": "3.12.7"
  }
 },
 "nbformat": 4,
 "nbformat_minor": 2
}
