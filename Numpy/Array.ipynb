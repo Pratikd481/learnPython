{
 "cells": [
  {
   "cell_type": "markdown",
   "id": "4d3f7eb9-e1c3-48ab-a4ac-e56b74b3522c",
   "metadata": {},
   "source": [
    "# Array"
   ]
  },
  {
   "cell_type": "code",
   "execution_count": 10,
   "id": "8e8875ab-70ad-43ac-a329-706ccf59035f",
   "metadata": {},
   "outputs": [
    {
     "name": "stdout",
     "output_type": "stream",
     "text": [
      "[1 2 3 4]\n",
      "<class 'numpy.ndarray'>\n",
      "1\n"
     ]
    }
   ],
   "source": [
    "import numpy as np\n",
    "\n",
    "n =  np.array([1,2,3,4])\n",
    "print(n)\n",
    "print(type(n))\n",
    "print(n.ndim)"
   ]
  },
  {
   "cell_type": "code",
   "execution_count": null,
   "id": "1bdeb5bc-b364-4a70-94aa-f00832cf9ec9",
   "metadata": {},
   "outputs": [],
   "source": []
  }
 ],
 "metadata": {
  "kernelspec": {
   "display_name": "Python [conda env:base] *",
   "language": "python",
   "name": "conda-base-py"
  },
  "language_info": {
   "codemirror_mode": {
    "name": "ipython",
    "version": 3
   },
   "file_extension": ".py",
   "mimetype": "text/x-python",
   "name": "python",
   "nbconvert_exporter": "python",
   "pygments_lexer": "ipython3",
   "version": "3.12.7"
  }
 },
 "nbformat": 4,
 "nbformat_minor": 5
}
