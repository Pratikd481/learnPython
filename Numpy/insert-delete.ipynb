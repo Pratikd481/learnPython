{
 "cells": [
  {
   "cell_type": "markdown",
   "metadata": {},
   "source": [
    "# Insert"
   ]
  },
  {
   "cell_type": "code",
   "execution_count": 3,
   "metadata": {},
   "outputs": [
    {
     "name": "stdout",
     "output_type": "stream",
     "text": [
      "[1 2 3 4 5]\n",
      "[ 1 10  2  3  4  5]\n",
      "[ 1 10  2  3  4 10  5]\n"
     ]
    }
   ],
   "source": [
    "import numpy as np\n",
    "\n",
    "var  = np.array([1, 2, 3, 4, 5])\n",
    "\n",
    "v = np.insert(var, 1, 10)\n",
    "x = np.insert(var, (1,4), 10)\n",
    "\n",
    "print(var)\n",
    "print(v)\n",
    "print(x)"
   ]
  },
  {
   "cell_type": "code",
   "execution_count": 17,
   "metadata": {},
   "outputs": [
    {
     "name": "stdout",
     "output_type": "stream",
     "text": [
      "[[1 2]\n",
      " [3 4]\n",
      " [5 6]]\n",
      "\n",
      "[[ 1  2]\n",
      " [10 10]\n",
      " [ 3  4]\n",
      " [ 5  6]]\n",
      "\n",
      "[[ 1 10  2]\n",
      " [ 3 10  4]\n",
      " [ 5 10  6]]\n",
      "\n",
      "np.insert(var, 1, [10, 20], axis=0) \n",
      "[[ 1  2]\n",
      " [10 20]\n",
      " [ 3  4]\n",
      " [ 5  6]]\n",
      "\n",
      "np.insert(var, 1, [10, 20, 30], axis=1) \n",
      "[[ 1 10  2]\n",
      " [ 3 20  4]\n",
      " [ 5 30  6]]\n"
     ]
    }
   ],
   "source": [
    "import numpy as np\n",
    "\n",
    "var  = np.array([[1, 2], [3, 4], [5, 6]])\n",
    "\n",
    "x = np.insert(var, 1, 10, axis=0)   # Insert 10 at row 1\n",
    "y = np.insert(var, 1, 10, axis=1)   # Insert 10 at column 1\n",
    "\n",
    "z = np.insert(var, 1, [10, 20], axis=0)   # Insert 10 at row 1\n",
    "k = np.insert(var, 1, [10, 20, 30], axis=1) \n",
    "\n",
    "print(var)\n",
    "print()\n",
    "print(x)\n",
    "print()\n",
    "print(y)\n",
    "print()\n",
    "print(\"np.insert(var, 1, [10, 20], axis=0) \")\n",
    "print(z)\n",
    "print()\n",
    "print(\"np.insert(var, 1, [10, 20, 30], axis=1) \")\n",
    "print(k)\n"
   ]
  },
  {
   "cell_type": "markdown",
   "metadata": {},
   "source": [
    "# Delete"
   ]
  },
  {
   "cell_type": "code",
   "execution_count": 19,
   "metadata": {},
   "outputs": [
    {
     "name": "stdout",
     "output_type": "stream",
     "text": [
      "[[1 2]\n",
      " [3 4]\n",
      " [5 6]]\n",
      "\n",
      "[[1 2]\n",
      " [5 6]]\n",
      "\n",
      "[[1]\n",
      " [3]\n",
      " [5]]\n"
     ]
    }
   ],
   "source": [
    "import numpy as np\n",
    "\n",
    "var = np.array([[1, 2], [3, 4], [5, 6]])\n",
    "\n",
    "x = np.delete(var, 1, axis=0)   # Delete row 1\n",
    "y = np.delete(var, 1, axis=1)   # Delete column 1\n",
    "\n",
    "print(var)\n",
    "print()\n",
    "print(x)\n",
    "print()\n",
    "print(y)"
   ]
  },
  {
   "cell_type": "code",
   "execution_count": null,
   "metadata": {},
   "outputs": [],
   "source": []
  }
 ],
 "metadata": {
  "kernelspec": {
   "display_name": "base",
   "language": "python",
   "name": "python3"
  },
  "language_info": {
   "codemirror_mode": {
    "name": "ipython",
    "version": 3
   },
   "file_extension": ".py",
   "mimetype": "text/x-python",
   "name": "python",
   "nbconvert_exporter": "python",
   "pygments_lexer": "ipython3",
   "version": "3.12.7"
  }
 },
 "nbformat": 4,
 "nbformat_minor": 2
}
