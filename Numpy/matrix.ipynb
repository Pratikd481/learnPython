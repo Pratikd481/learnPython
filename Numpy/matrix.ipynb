{
 "cells": [
  {
   "cell_type": "markdown",
   "metadata": {},
   "source": [
    "# Matrix"
   ]
  },
  {
   "cell_type": "code",
   "execution_count": 5,
   "metadata": {},
   "outputs": [
    {
     "name": "stdout",
     "output_type": "stream",
     "text": [
      "[[ 1  2  3  4]\n",
      " [ 5  6  7  8]\n",
      " [ 9 10 11 12]]\n",
      "\n",
      "[[ 2  4  6  8]\n",
      " [10 12 14 16]\n",
      " [18 20 22 24]]\n",
      "<class 'numpy.matrix'>\n"
     ]
    }
   ],
   "source": [
    "import numpy as np\n",
    "\n",
    "var =  np.matrix([[1, 2, 3, 4], [5, 6, 7, 8], [9, 10, 11, 12]])\n",
    "var2 = np.matrix([[1, 2, 3, 4], [5, 6, 7, 8], [9, 10, 11, 12]])\n",
    "\n",
    "print(var)\n",
    "\n",
    "print()\n",
    "print(var+var2)\n",
    "\n",
    "print(type(var))"
   ]
  },
  {
   "cell_type": "code",
   "execution_count": 9,
   "metadata": {},
   "outputs": [
    {
     "name": "stdout",
     "output_type": "stream",
     "text": [
      "[[ 1  2  3  4]\n",
      " [ 5  6  7  8]\n",
      " [ 9 10 11 12]]\n",
      "\n",
      "[[ 2  4  6  8]\n",
      " [10 12 14 16]\n",
      " [18 20 22 24]]\n",
      "<class 'numpy.ndarray'>\n"
     ]
    }
   ],
   "source": [
    "import numpy as np\n",
    "\n",
    "var =  np.array([[1, 2, 3, 4], [5, 6, 7, 8], [9, 10, 11, 12]])\n",
    "var2 = np.array([[1, 2, 3, 4], [5, 6, 7, 8], [9, 10, 11, 12]])\n",
    "\n",
    "print(var)\n",
    "\n",
    "\n",
    "print()\n",
    "print(var+var2)\n",
    "\n",
    "\n",
    "print(type(var))"
   ]
  },
  {
   "cell_type": "code",
   "execution_count": 11,
   "metadata": {},
   "outputs": [
    {
     "name": "stdout",
     "output_type": "stream",
     "text": [
      "[[ 1  2  3]\n",
      " [ 5  6  7]\n",
      " [ 9 10 11]]\n",
      "\n",
      "[[ 38  44  50]\n",
      " [ 98 116 134]\n",
      " [158 188 218]]\n",
      "\n",
      "[[ 38  44  50]\n",
      " [ 98 116 134]\n",
      " [158 188 218]]\n"
     ]
    }
   ],
   "source": [
    "import numpy as np\n",
    "\n",
    "var =  np.matrix([[1, 2, 3], [5, 6, 7], [9, 10, 11]])\n",
    "var2 = np.matrix([[1, 2, 3], [5, 6, 7], [9, 10, 11]])\n",
    "\n",
    "print(var)\n",
    "\n",
    "print()\n",
    "print(var*var2) # matrix multiplication\n",
    "\n",
    "print()\n",
    "print(var.dot(var2)) # matrix multiplication\n"
   ]
  },
  {
   "cell_type": "code",
   "execution_count": 10,
   "metadata": {},
   "outputs": [
    {
     "name": "stdout",
     "output_type": "stream",
     "text": [
      "[[ 1  2  3]\n",
      " [ 5  6  7]\n",
      " [ 9 10 11]]\n",
      "\n",
      "[[  1   4   9]\n",
      " [ 25  36  49]\n",
      " [ 81 100 121]]\n"
     ]
    }
   ],
   "source": [
    "import numpy as np\n",
    "\n",
    "var =  np.array([[1, 2, 3], [5, 6, 7], [9, 10, 11]])\n",
    "var2 = np.array([[1, 2, 3], [5, 6, 7], [9, 10, 11]])\n",
    "\n",
    "print(var)\n",
    "\n",
    "print()\n",
    "print(var*var2) #element wise multiplication\n"
   ]
  },
  {
   "cell_type": "markdown",
   "metadata": {},
   "source": [
    "![matrixFunctions](images/matrixFunctions.png)"
   ]
  },
  {
   "cell_type": "markdown",
   "metadata": {},
   "source": []
  }
 ],
 "metadata": {
  "kernelspec": {
   "display_name": "base",
   "language": "python",
   "name": "python3"
  },
  "language_info": {
   "codemirror_mode": {
    "name": "ipython",
    "version": 3
   },
   "file_extension": ".py",
   "mimetype": "text/x-python",
   "name": "python",
   "nbconvert_exporter": "python",
   "pygments_lexer": "ipython3",
   "version": "3.12.7"
  }
 },
 "nbformat": 4,
 "nbformat_minor": 2
}
