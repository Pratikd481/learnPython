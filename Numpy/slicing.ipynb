{
 "cells": [
  {
   "cell_type": "markdown",
   "metadata": {},
   "source": [
    "# Slicing"
   ]
  },
  {
   "cell_type": "markdown",
   "metadata": {},
   "source": [
    "![Slicing](images/slicing.png)"
   ]
  },
  {
   "cell_type": "code",
   "execution_count": 5,
   "metadata": {},
   "outputs": [
    {
     "name": "stdout",
     "output_type": "stream",
     "text": [
      "[9 3 4 5 7 8 2 4 0]\n",
      "3 to 7 [3 4 5 7]\n",
      "3 to end [3 4 5 7 8 2 4 0]\n",
      "start to 7 [9 3 4 5 7]\n",
      "Step 2 [9 4 7 2 0]\n"
     ]
    }
   ],
   "source": [
    "import numpy as np\n",
    "\n",
    "var  = np.array([9,3,4,5,7,8,2,4,0])\n",
    "\n",
    "print(var)\n",
    "\n",
    "print(\"3 to 7\", var[1:5])\n",
    "print(\"3 to end\", var[1:])\n",
    "print(\"start to 7\", var[:5])\n",
    "print(\"Step 2\", var[::2])"
   ]
  },
  {
   "cell_type": "code",
   "execution_count": 10,
   "metadata": {},
   "outputs": [
    {
     "name": "stdout",
     "output_type": "stream",
     "text": [
      "[[1 2 3]\n",
      " [4 5 6]\n",
      " [7 8 9]]\n",
      "\n",
      "2nd row [4 5 6]\n",
      "\n",
      "5 to 6 [5 6]\n",
      "\n",
      "5 to 9 [[5 6]\n",
      " [8 9]]\n",
      "\n"
     ]
    }
   ],
   "source": [
    "import numpy as np\n",
    "var  = np.array([[1,2,3],[4,5,6],[7,8,9]])\n",
    "print(var)\n",
    "print()\n",
    "print(\"2nd row\", var[1])\n",
    "print()\n",
    "print(\"5 to 6\", var[1,1:3])\n",
    "print()\n",
    "print(\"5 to 9\", var[1:,1:])\n",
    "print()"
   ]
  },
  {
   "cell_type": "code",
   "execution_count": null,
   "metadata": {},
   "outputs": [],
   "source": []
  }
 ],
 "metadata": {
  "kernelspec": {
   "display_name": "base",
   "language": "python",
   "name": "python3"
  },
  "language_info": {
   "codemirror_mode": {
    "name": "ipython",
    "version": 3
   },
   "file_extension": ".py",
   "mimetype": "text/x-python",
   "name": "python",
   "nbconvert_exporter": "python",
   "pygments_lexer": "ipython3",
   "version": "3.12.7"
  }
 },
 "nbformat": 4,
 "nbformat_minor": 2
}
