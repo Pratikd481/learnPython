{
 "cells": [
  {
   "cell_type": "markdown",
   "id": "39f7d57e-cc9b-4035-8125-94ad87c1e785",
   "metadata": {},
   "source": [
    "# Initialized numpy array"
   ]
  },
  {
   "cell_type": "code",
   "execution_count": 11,
   "id": "20159477-c5ee-4294-91b1-fb61daa4f12a",
   "metadata": {},
   "outputs": [
    {
     "name": "stdout",
     "output_type": "stream",
     "text": [
      "[[0. 0. 0. 0.]\n",
      " [0. 0. 0. 0.]\n",
      " [0. 0. 0. 0.]\n",
      " [0. 0. 0. 0.]]\n",
      "Dimention : 2\n",
      "<class 'numpy.ndarray'>\n"
     ]
    }
   ],
   "source": [
    "import numpy as np\n",
    "n = np.zeros([4,4])\n",
    "print(n)\n",
    "print(\"Dimention :\", n.ndim)\n",
    "print(type(n))"
   ]
  },
  {
   "cell_type": "code",
   "execution_count": null,
   "id": "901954f7-6fa4-418a-bf52-a782590e3de7",
   "metadata": {},
   "outputs": [],
   "source": []
  }
 ],
 "metadata": {
  "kernelspec": {
   "display_name": "Python [conda env:base] *",
   "language": "python",
   "name": "conda-base-py"
  },
  "language_info": {
   "codemirror_mode": {
    "name": "ipython",
    "version": 3
   },
   "file_extension": ".py",
   "mimetype": "text/x-python",
   "name": "python",
   "nbconvert_exporter": "python",
   "pygments_lexer": "ipython3",
   "version": "3.12.7"
  }
 },
 "nbformat": 4,
 "nbformat_minor": 5
}
