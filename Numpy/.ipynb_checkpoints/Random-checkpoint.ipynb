{
 "cells": [
  {
   "cell_type": "markdown",
   "id": "3cbd70d4-bde2-4d54-849a-a7b469cc9002",
   "metadata": {},
   "source": [
    "![Contents](images/numpyRandom.png)"
   ]
  },
  {
   "cell_type": "markdown",
   "id": "193b9219-2218-4118-8577-82be169e9e06",
   "metadata": {},
   "source": [
    "# Random\n"
   ]
  },
  {
   "cell_type": "markdown",
   "id": "c76deb01-4e96-44a8-8e26-00b55a4c3a2f",
   "metadata": {},
   "source": [
    "## rand()"
   ]
  },
  {
   "cell_type": "code",
   "execution_count": 23,
   "id": "bef639a6-71fb-4a5b-b7a4-d65457ce5100",
   "metadata": {},
   "outputs": [
    {
     "name": "stdout",
     "output_type": "stream",
     "text": [
      "[0.47770166 0.75076975 0.11155095 0.46530607]\n"
     ]
    }
   ],
   "source": [
    "import numpy as np\n",
    "var1  =  np.random.rand(4);\n",
    "print(var1)"
   ]
  },
  {
   "cell_type": "code",
   "execution_count": 25,
   "id": "bae8c91c-5106-409f-82bf-0ec9459b1c1c",
   "metadata": {},
   "outputs": [
    {
     "name": "stdout",
     "output_type": "stream",
     "text": [
      "[[0.00210818 0.02554988 0.17652874 0.77051708 0.20093545]\n",
      " [0.10114308 0.34798059 0.91561235 0.05808477 0.30079843]\n",
      " [0.64189184 0.02863683 0.40169567 0.96915481 0.54097448]\n",
      " [0.17352072 0.77170777 0.47241171 0.21360605 0.73182624]]\n"
     ]
    }
   ],
   "source": [
    "import numpy as np\n",
    "var2 = np.random.rand(4,5);\n",
    "print(var2)"
   ]
  },
  {
   "cell_type": "markdown",
   "id": "ac85f8ee-5d4c-4e0d-be02-461d9f97c77c",
   "metadata": {},
   "source": [
    "## randn()"
   ]
  },
  {
   "cell_type": "code",
   "execution_count": 30,
   "id": "4da0c41c-8244-4d8e-b912-2e3b7824f72a",
   "metadata": {},
   "outputs": [
    {
     "name": "stdout",
     "output_type": "stream",
     "text": [
      "[ 1.16743022 -1.48644903 -1.03799937  2.44429705]\n"
     ]
    }
   ],
   "source": [
    "import numpy as np\n",
    "var3 = np.random.randn(4)\n",
    "print(var3)"
   ]
  },
  {
   "cell_type": "code",
   "execution_count": null,
   "id": "3879573d-79dc-4c28-b4c8-446e96f90c4f",
   "metadata": {},
   "outputs": [],
   "source": []
  },
  {
   "cell_type": "markdown",
   "id": "b1ab8142-6611-4c33-bc7b-ce6b9fe92e9e",
   "metadata": {},
   "source": [
    "## ranf()"
   ]
  },
  {
   "cell_type": "code",
   "execution_count": 36,
   "id": "812ad38d-61ca-49e4-b918-419159a9e416",
   "metadata": {},
   "outputs": [
    {
     "name": "stdout",
     "output_type": "stream",
     "text": [
      "[0.80940438 0.08921355 0.01942876 0.46214994 0.1092699 ]\n"
     ]
    }
   ],
   "source": [
    "import numpy as np\n",
    "var4 = np.random.ranf(5)\n",
    "print(var4)"
   ]
  },
  {
   "cell_type": "markdown",
   "id": "86dd91fb-89f6-4751-9978-7b4063c5b988",
   "metadata": {},
   "source": []
  },
  {
   "cell_type": "code",
   "execution_count": 42,
   "id": "35e007c1-4898-41cf-bfb0-0da33ffabd05",
   "metadata": {},
   "outputs": [
    {
     "name": "stdout",
     "output_type": "stream",
     "text": [
      "[3 3 3 2 3 3 3 4 2 2]\n"
     ]
    }
   ],
   "source": [
    "import numpy as np\n",
    "var5 = np.random.randint(1, 5, 10)\n",
    "print(var5)"
   ]
  },
  {
   "cell_type": "code",
   "execution_count": null,
   "id": "83a5ebd4-4a26-433e-b527-0d77d88301d0",
   "metadata": {},
   "outputs": [],
   "source": []
  }
 ],
 "metadata": {
  "kernelspec": {
   "display_name": "Python [conda env:base] *",
   "language": "python",
   "name": "conda-base-py"
  },
  "language_info": {
   "codemirror_mode": {
    "name": "ipython",
    "version": 3
   },
   "file_extension": ".py",
   "mimetype": "text/x-python",
   "name": "python",
   "nbconvert_exporter": "python",
   "pygments_lexer": "ipython3",
   "version": "3.12.7"
  }
 },
 "nbformat": 4,
 "nbformat_minor": 5
}
