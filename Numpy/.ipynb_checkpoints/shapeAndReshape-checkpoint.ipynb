{
 "cells": [
  {
   "cell_type": "markdown",
   "id": "0c5c03cb-f464-4148-ba17-e3b5bb07199a",
   "metadata": {},
   "source": [
    "# Shape\n"
   ]
  },
  {
   "cell_type": "markdown",
   "id": "d7a64017-4544-42f1-950a-9222e03ca15d",
   "metadata": {},
   "source": [
    "import numpy as np\n",
    "\n",
    "var = np.array([[1,2,3,4],[1,2,8,9]])\n",
    "print(var)\n",
    "print()\n",
    "print(var.shape);\n",
    "\n",
    "print()\n",
    "print(var.ndim);"
   ]
  },
  {
   "cell_type": "code",
   "execution_count": 20,
   "id": "25530739-9dd0-4adc-a315-7d778456b369",
   "metadata": {},
   "outputs": [
    {
     "name": "stdout",
     "output_type": "stream",
     "text": [
      "[[[[[1 2]]]]]\n",
      "\n",
      "(1, 1, 1, 1, 2)\n",
      "\n",
      "5\n"
     ]
    }
   ],
   "source": [
    "import numpy as np\n",
    "\n",
    "var = np.array([1,2], ndmin=5)\n",
    "print(var)\n",
    "print()\n",
    "print(var.shape)\n",
    "\n",
    "print()\n",
    "print(var.ndim);"
   ]
  },
  {
   "cell_type": "markdown",
   "id": "f24b7383-11bf-4f9f-b3f6-d5f17d3b950b",
   "metadata": {},
   "source": [
    "# Reshape"
   ]
  },
  {
   "cell_type": "code",
   "execution_count": 29,
   "id": "b3793309-aeb7-40e9-8b55-c50e38d872be",
   "metadata": {},
   "outputs": [
    {
     "name": "stdout",
     "output_type": "stream",
     "text": [
      "[1 2 3 4 5 6]\n",
      "1\n",
      "\n",
      "[[1 2]\n",
      " [3 4]\n",
      " [5 6]]\n",
      "\n",
      "2\n",
      "[1 2 3 4 5 6]\n",
      "1\n"
     ]
    }
   ],
   "source": [
    "import numpy as np\n",
    "\n",
    "var = np.array([1,2,3,4,5,6])\n",
    "x = var.reshape(3,2);\n",
    "print(var)\n",
    "print(var.ndim)\n",
    "print()\n",
    "print(x );\n",
    "\n",
    "print()\n",
    "print(x.ndim);\n",
    "\n",
    "one = x.reshape(-1)\n",
    "print(one)\n",
    "print(one.ndim)"
   ]
  },
  {
   "cell_type": "code",
   "execution_count": null,
   "id": "ff9a7d47-2734-42d7-98cb-5e414c430f6e",
   "metadata": {},
   "outputs": [],
   "source": []
  }
 ],
 "metadata": {
  "kernelspec": {
   "display_name": "Python [conda env:base] *",
   "language": "python",
   "name": "conda-base-py"
  },
  "language_info": {
   "codemirror_mode": {
    "name": "ipython",
    "version": 3
   },
   "file_extension": ".py",
   "mimetype": "text/x-python",
   "name": "python",
   "nbconvert_exporter": "python",
   "pygments_lexer": "ipython3",
   "version": "3.12.7"
  }
 },
 "nbformat": 4,
 "nbformat_minor": 5
}
