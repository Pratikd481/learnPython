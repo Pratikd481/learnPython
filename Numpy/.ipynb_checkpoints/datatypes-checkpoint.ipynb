{
 "cells": [
  {
   "cell_type": "markdown",
   "id": "7870029d-3c72-4033-895f-ce4dbe1c680b",
   "metadata": {},
   "source": [
    "# Datatypes in Numpy"
   ]
  },
  {
   "cell_type": "code",
   "execution_count": 4,
   "id": "21b96e92-0a81-4564-ae6d-7305a8008978",
   "metadata": {},
   "outputs": [
    {
     "name": "stdout",
     "output_type": "stream",
     "text": [
      "int32\n"
     ]
    }
   ],
   "source": [
    "import numpy as np\n",
    "n = np.array([1,2,3,4])\n",
    "print(n.dtype)"
   ]
  },
  {
   "cell_type": "code",
   "execution_count": 6,
   "id": "aab35270-ad4e-4b3f-8839-c3c4379b62d4",
   "metadata": {},
   "outputs": [
    {
     "name": "stdout",
     "output_type": "stream",
     "text": [
      "<U5\n"
     ]
    }
   ],
   "source": [
    "import numpy as np\n",
    "n = np.array([\"test\", \"test2\"])\n",
    "print(n.dtype)"
   ]
  },
  {
   "cell_type": "code",
   "execution_count": 16,
   "id": "93ee7b81-7ef0-4695-94c2-b8f5cf471a88",
   "metadata": {},
   "outputs": [
    {
     "name": "stdout",
     "output_type": "stream",
     "text": [
      "|S2\n"
     ]
    }
   ],
   "source": [
    "import numpy as np\n",
    "n = np.array([\"test\", \"test2\"], dtype='S2')\n",
    "print(n.dtype)"
   ]
  },
  {
   "cell_type": "markdown",
   "id": "76366f1f-661e-4990-b81d-117b15c9f9db",
   "metadata": {},
   "source": [
    "## Change one type to another"
   ]
  },
  {
   "cell_type": "code",
   "execution_count": 25,
   "id": "cd531d57-7be4-4b15-be9b-e0b327c46bd1",
   "metadata": {},
   "outputs": [
    {
     "name": "stdout",
     "output_type": "stream",
     "text": [
      "['1' '2' '3' '4']\n",
      "<U1\n",
      "[1 2 3 4]\n",
      "int32\n"
     ]
    }
   ],
   "source": [
    "import numpy as np\n",
    "n = np.array([\"1\",\"2\",\"3\",\"4\"])\n",
    "print(n)\n",
    "print(n.dtype)\n",
    "\n",
    "n2 = n.astype(\"i\")\n",
    "print(n2)\n",
    "print(n2.dtype)"
   ]
  },
  {
   "cell_type": "code",
   "execution_count": null,
   "id": "8adf8da0-8de8-40ab-b785-9b254c4560a1",
   "metadata": {
    "editable": true,
    "slideshow": {
     "slide_type": ""
    },
    "tags": []
   },
   "outputs": [],
   "source": []
  }
 ],
 "metadata": {
  "kernelspec": {
   "display_name": "Python [conda env:base] *",
   "language": "python",
   "name": "conda-base-py"
  },
  "language_info": {
   "codemirror_mode": {
    "name": "ipython",
    "version": 3
   },
   "file_extension": ".py",
   "mimetype": "text/x-python",
   "name": "python",
   "nbconvert_exporter": "python",
   "pygments_lexer": "ipython3",
   "version": "3.12.7"
  }
 },
 "nbformat": 4,
 "nbformat_minor": 5
}
