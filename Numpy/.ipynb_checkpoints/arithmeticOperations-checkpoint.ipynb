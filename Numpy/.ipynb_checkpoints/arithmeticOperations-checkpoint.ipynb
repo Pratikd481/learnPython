{
 "cells": [
  {
   "cell_type": "markdown",
   "id": "bcda08d4-f0a9-41b3-92f7-dd782e4a6d06",
   "metadata": {
    "editable": true,
    "slideshow": {
     "slide_type": ""
    },
    "tags": []
   },
   "source": [
    "![Contents](images/arithmeticOperations.png)"
   ]
  },
  {
   "cell_type": "code",
   "execution_count": 3,
   "id": "d41c7e0b-0c3b-424e-9cd0-21cd919a9553",
   "metadata": {},
   "outputs": [
    {
     "name": "stdout",
     "output_type": "stream",
     "text": [
      "[4 5 6 7]\n"
     ]
    }
   ],
   "source": [
    "import numpy as np\n",
    "var = np.array([1,2,3,4])\n",
    "varadd = var + 3\n",
    "print(varadd)"
   ]
  },
  {
   "cell_type": "code",
   "execution_count": 5,
   "id": "926b1e27-4fb1-4f63-9537-69831268c963",
   "metadata": {},
   "outputs": [
    {
     "name": "stdout",
     "output_type": "stream",
     "text": [
      "[2 4 6 8]\n"
     ]
    }
   ],
   "source": [
    "import numpy as np\n",
    "var1 = np.array([1,2,3,4])\n",
    "var2 = np.array([1,2,3,4])\n",
    "varadd = var1 + var2\n",
    "print(varadd)"
   ]
  },
  {
   "cell_type": "code",
   "execution_count": 7,
   "id": "e4e09fe5-fb76-404f-b40e-fccbf44a8146",
   "metadata": {},
   "outputs": [
    {
     "name": "stdout",
     "output_type": "stream",
     "text": [
      "[-2 -1  0  1]\n"
     ]
    }
   ],
   "source": [
    "import numpy as np\n",
    "var = np.array([1,2,3,4])\n",
    "varadd = var - 3\n",
    "print(varadd)"
   ]
  },
  {
   "cell_type": "code",
   "execution_count": 9,
   "id": "1a6ab395-33bc-4ad5-aa30-046e3e249eaf",
   "metadata": {},
   "outputs": [
    {
     "name": "stdout",
     "output_type": "stream",
     "text": [
      "[0 0 0 0]\n"
     ]
    }
   ],
   "source": [
    "import numpy as np\n",
    "var1 = np.array([1,2,3,4])\n",
    "var2 = np.array([1,2,3,4])\n",
    "varadd = var1 - var2\n",
    "print(varadd)"
   ]
  },
  {
   "cell_type": "code",
   "execution_count": 11,
   "id": "beaf068f-71ff-4786-a474-2d5c62c07e34",
   "metadata": {},
   "outputs": [
    {
     "name": "stdout",
     "output_type": "stream",
     "text": [
      "[ 3  6  9 12]\n"
     ]
    }
   ],
   "source": [
    "import numpy as np\n",
    "var = np.array([1,2,3,4])\n",
    "varadd = var * 3\n",
    "print(varadd)"
   ]
  },
  {
   "cell_type": "code",
   "execution_count": 13,
   "id": "b33d66f3-2e20-4425-81a9-cca105176e05",
   "metadata": {},
   "outputs": [
    {
     "name": "stdout",
     "output_type": "stream",
     "text": [
      "[ 1  4  9 16]\n"
     ]
    }
   ],
   "source": [
    "import numpy as np\n",
    "var1 = np.array([1,2,3,4])\n",
    "var2 = np.array([1,2,3,4])\n",
    "varadd = var1 * var2\n",
    "print(varadd)"
   ]
  },
  {
   "cell_type": "code",
   "execution_count": 3,
   "id": "1e95373e-5164-499b-883d-8ace53e9d069",
   "metadata": {},
   "outputs": [
    {
     "name": "stdout",
     "output_type": "stream",
     "text": [
      "[1 2 0 1]\n"
     ]
    }
   ],
   "source": [
    "import numpy as np\n",
    "var = np.array([1,2,3,4])\n",
    "varadd = var% 3\n",
    "print(varadd)"
   ]
  },
  {
   "cell_type": "code",
   "execution_count": 5,
   "id": "87dadfa5-af86-4af4-97dc-89630fd198df",
   "metadata": {},
   "outputs": [
    {
     "name": "stdout",
     "output_type": "stream",
     "text": [
      "[2 4 6 8]\n"
     ]
    }
   ],
   "source": [
    "import numpy as np\n",
    "var1 = np.array([1,2,3,4])\n",
    "var2 = np.array([1,2,3,4])\n",
    "varadd = np.add(var1, var2)\n",
    "print(varadd)"
   ]
  },
  {
   "cell_type": "markdown",
   "id": "04a3cce8-012e-4eee-882e-4068b15ffbd1",
   "metadata": {},
   "source": [
    "## 2D Array"
   ]
  },
  {
   "cell_type": "code",
   "execution_count": 10,
   "id": "138774ec-06c7-4084-b3c9-3ef8742587c2",
   "metadata": {},
   "outputs": [
    {
     "name": "stdout",
     "output_type": "stream",
     "text": [
      "[[1 2 3 4]\n",
      " [1 2 3 4]]\n",
      "\n",
      "[[1 2 3 4]\n",
      " [1 2 3 4]]\n",
      "\n",
      "[[2 4 6 8]\n",
      " [2 4 6 8]]\n"
     ]
    }
   ],
   "source": [
    "import numpy as np\n",
    "var1 = np.array([[1,2,3,4],[1,2,3,4]])\n",
    "var2 = np.array([[1,2,3,4],[1,2,3,4]])\n",
    "varadd = np.add(var1, var2)\n",
    "\n",
    "print(var1)\n",
    "print()\n",
    "print(var2)\n",
    "print()\n",
    "print(varadd)"
   ]
  },
  {
   "cell_type": "code",
   "execution_count": 12,
   "id": "e0a2237b-9efa-4125-bd53-df052e8203c7",
   "metadata": {},
   "outputs": [
    {
     "name": "stdout",
     "output_type": "stream",
     "text": [
      "[[1 2 3 4]\n",
      " [1 2 3 4]]\n",
      "\n",
      "[[1 2 3 4]\n",
      " [1 2 3 4]]\n",
      "\n",
      "[[ 1  4  9 16]\n",
      " [ 1  4  9 16]]\n"
     ]
    }
   ],
   "source": [
    "import numpy as np\n",
    "var1 = np.array([[1,2,3,4],[1,2,3,4]])\n",
    "var2 = np.array([[1,2,3,4],[1,2,3,4]])\n",
    "varadd = var1*var2\n",
    "\n",
    "print(var1)\n",
    "print()\n",
    "print(var2)\n",
    "print()\n",
    "print(varadd)"
   ]
  },
  {
   "cell_type": "code",
   "execution_count": null,
   "id": "fe914e0f-8d77-4a03-a922-c34748b6d13a",
   "metadata": {},
   "outputs": [],
   "source": []
  }
 ],
 "metadata": {
  "kernelspec": {
   "display_name": "Python [conda env:base] *",
   "language": "python",
   "name": "conda-base-py"
  },
  "language_info": {
   "codemirror_mode": {
    "name": "ipython",
    "version": 3
   },
   "file_extension": ".py",
   "mimetype": "text/x-python",
   "name": "python",
   "nbconvert_exporter": "python",
   "pygments_lexer": "ipython3",
   "version": "3.12.7"
  }
 },
 "nbformat": 4,
 "nbformat_minor": 5
}
