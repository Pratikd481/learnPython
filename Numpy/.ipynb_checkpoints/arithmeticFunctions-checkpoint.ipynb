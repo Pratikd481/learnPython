{
 "cells": [
  {
   "cell_type": "markdown",
   "id": "bcda08d4-f0a9-41b3-92f7-dd782e4a6d06",
   "metadata": {
    "editable": true,
    "slideshow": {
     "slide_type": ""
    },
    "tags": []
   },
   "source": [
    "![Contents](images/arithmeticFunctions.png)"
   ]
  },
  {
   "cell_type": "code",
   "execution_count": 38,
   "id": "9b9969be-d3ac-42be-aece-37f824782fde",
   "metadata": {},
   "outputs": [
    {
     "name": "stdout",
     "output_type": "stream",
     "text": [
      "Min : 1 2\n",
      "Max : 32 8\n",
      "Sqrt : [1.73205081 1.73205081 1.         2.23606798 2.44948974 1.\n",
      " 2.64575131 2.82842712 5.65685425]\n"
     ]
    }
   ],
   "source": [
    "import numpy as np\n",
    "\n",
    "var = np.array([3,3,1,5,6,1,7,8,32])\n",
    "print(\"Min :\",var.min(), var.argmin())\n",
    "print(\"Max :\",var.max(), var.argmax())\n",
    "print(\"Sqrt :\",np.sqrt(var))"
   ]
  },
  {
   "cell_type": "code",
   "execution_count": 32,
   "id": "42295c06-b6be-4fcf-9a55-ac6c3cfebf17",
   "metadata": {},
   "outputs": [
    {
     "name": "stdout",
     "output_type": "stream",
     "text": [
      "Min row: [2 2]\n",
      "Max row: [6 9]\n"
     ]
    }
   ],
   "source": [
    "import numpy as np\n",
    "\n",
    "var = np.array([[2, 4,6],[2, 6, 9]])\n",
    "print(\"Min row:\",np.min(var,axis=1))\n",
    "print(\"Max row:\",np.max(var,axis=1))"
   ]
  },
  {
   "cell_type": "code",
   "execution_count": 36,
   "id": "024b6bab-66ef-4ea7-a935-bf10a1cd1fe2",
   "metadata": {},
   "outputs": [
    {
     "name": "stdout",
     "output_type": "stream",
     "text": [
      "Min column: [2 4 6]\n",
      "Max column: [2 6 9]\n"
     ]
    }
   ],
   "source": [
    "import numpy as np\n",
    "\n",
    "var = np.array([[2, 4,6],[2, 6, 9]])\n",
    "print(\"Min column:\",np.min(var,axis=0))\n",
    "print(\"Max column:\",np.max(var,axis=0))"
   ]
  },
  {
   "cell_type": "code",
   "execution_count": 42,
   "id": "707a4db7-c6c0-494d-8976-b16f5ab33596",
   "metadata": {},
   "outputs": [
    {
     "name": "stdout",
     "output_type": "stream",
     "text": [
      "[0.84147098 0.90929743 0.14112001]\n",
      "[ 0.54030231 -0.41614684 -0.9899925 ]\n",
      "[1 3 6]\n"
     ]
    }
   ],
   "source": [
    "import numpy as np\n",
    "\n",
    "var = np.array([1,2,3])\n",
    "print(np.sin(var))\n",
    "print(np.cos(var))\n",
    "print(np.cumsum(var))"
   ]
  },
  {
   "cell_type": "code",
   "execution_count": null,
   "id": "58cdac41-120b-4828-85cf-0e9740e49380",
   "metadata": {},
   "outputs": [],
   "source": []
  }
 ],
 "metadata": {
  "kernelspec": {
   "display_name": "Python [conda env:base] *",
   "language": "python",
   "name": "conda-base-py"
  },
  "language_info": {
   "codemirror_mode": {
    "name": "ipython",
    "version": 3
   },
   "file_extension": ".py",
   "mimetype": "text/x-python",
   "name": "python",
   "nbconvert_exporter": "python",
   "pygments_lexer": "ipython3",
   "version": "3.12.7"
  }
 },
 "nbformat": 4,
 "nbformat_minor": 5
}
