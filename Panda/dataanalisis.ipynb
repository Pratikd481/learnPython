{
 "cells": [
  {
   "cell_type": "markdown",
   "metadata": {},
   "source": [
    "![watispanda](images/whatispanda.png)\n",
    "![watispanda](images/pandaDatastructure.png)\n",
    "![watispanda](images/importanceofPanda.png)"
   ]
  },
  {
   "cell_type": "markdown",
   "metadata": {},
   "source": []
  }
 ],
 "metadata": {
  "language_info": {
   "name": "python"
  }
 },
 "nbformat": 4,
 "nbformat_minor": 2
}
