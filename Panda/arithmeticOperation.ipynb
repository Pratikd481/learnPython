{
 "cells": [
  {
   "cell_type": "markdown",
   "metadata": {},
   "source": [
    "# Arithmetic Operation"
   ]
  },
  {
   "cell_type": "code",
   "execution_count": 6,
   "metadata": {},
   "outputs": [
    {
     "name": "stdout",
     "output_type": "stream",
     "text": [
      "   A  B\n",
      "0  1  4\n",
      "1  2  5\n",
      "2  3  6\n",
      "\n",
      "   A  B  C\n",
      "0  1  4  5\n",
      "1  2  5  7\n",
      "2  3  6  9\n",
      "\n",
      "0   -3\n",
      "1   -3\n",
      "2   -3\n",
      "Name: D, dtype: int64\n",
      "\n",
      "0     4\n",
      "1    10\n",
      "2    18\n",
      "Name: E, dtype: int64\n",
      "\n",
      "   A  B  C  D   E     F\n",
      "0  1  4  5 -3   4  0.25\n",
      "1  2  5  7 -3  10  0.40\n",
      "2  3  6  9 -3  18  0.50\n"
     ]
    }
   ],
   "source": [
    "import pandas as pd\n",
    "\n",
    "var = pd.DataFrame({\"A\": [1, 2, 3], \"B\": [4, 5, 6]})\n",
    "\n",
    "print(var)\n",
    "var[\"C\"] = var[\"A\"] + var[\"B\"]\n",
    "print()\n",
    "print(var)\n",
    "\n",
    "var[\"D\"] = var[\"A\"] - var[\"B\"]\n",
    "print()\n",
    "print(var[\"D\"])\n",
    "\n",
    "var[\"E\"] = var[\"A\"] * var[\"B\"]\n",
    "print()\n",
    "print(var[\"E\"])\n",
    "\n",
    "var[\"F\"] = var[\"A\"] / var[\"B\"]\n",
    "print()\n",
    "print(var)\n"
   ]
  },
  {
   "cell_type": "code",
   "execution_count": 7,
   "metadata": {},
   "outputs": [
    {
     "name": "stdout",
     "output_type": "stream",
     "text": [
      "    A  B\n",
      "0   1  4\n",
      "1  15  5\n",
      "2  20  6\n",
      "3  40  7\n",
      "4  80  8\n"
     ]
    }
   ],
   "source": [
    "import numpy as np\n",
    "\n",
    "var1 = pd.DataFrame({\"A\": [1,15,20,40,80], \"B\": [4, 5, 6, 7, 8]})\n",
    "\n",
    "print(var1)\n",
    "print()\n",
    "\n",
    "var1[\"C\"] = var[\"A\"] <=20\n",
    "print(var1)"
   ]
  },
  {
   "cell_type": "code",
   "execution_count": null,
   "metadata": {},
   "outputs": [],
   "source": []
  }
 ],
 "metadata": {
  "kernelspec": {
   "display_name": "base",
   "language": "python",
   "name": "python3"
  },
  "language_info": {
   "codemirror_mode": {
    "name": "ipython",
    "version": 3
   },
   "file_extension": ".py",
   "mimetype": "text/x-python",
   "name": "python",
   "nbconvert_exporter": "python",
   "pygments_lexer": "ipython3",
   "version": "3.12.7"
  }
 },
 "nbformat": 4,
 "nbformat_minor": 2
}
