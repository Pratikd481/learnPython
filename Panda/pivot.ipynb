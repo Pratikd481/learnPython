{
 "cells": [
  {
   "cell_type": "markdown",
   "metadata": {},
   "source": [
    "# Pivot"
   ]
  },
  {
   "cell_type": "markdown",
   "metadata": {},
   "source": [
    "In pandas, pivot is a function that reshapes a DataFrame from a long format to a wide format, where unique values from one column become new column headers, and values from another column populate those new columns."
   ]
  },
  {
   "cell_type": "raw",
   "metadata": {},
   "source": [
    "Syntax\n",
    "\n",
    "DataFrame.pivot(index=None, columns=None, values=None)\n",
    "\n",
    "index: The column to use as the new row index. \n",
    "columns: The column to use to create new columns.\n",
    "values: The column to use for populating data in the new table. If not specified, all remaining columns are used."
   ]
  },
  {
   "cell_type": "raw",
   "metadata": {
    "vscode": {
     "languageId": "raw"
    }
   },
   "source": [
    "When to Use pivot\n",
    "Use pivot when your data is in long format and you want to reshape it into a wide format.\n",
    "Each combination of the index and columns must be unique, or else a ValueError is raised."
   ]
  },
  {
   "cell_type": "code",
   "execution_count": 5,
   "metadata": {},
   "outputs": [
    {
     "name": "stdout",
     "output_type": "stream",
     "text": [
      "         date         city  temperature\n",
      "0  2025-01-01     New York           30\n",
      "1  2025-01-01  Los Angeles           25\n",
      "2  2025-01-02     New York           28\n",
      "3  2025-01-02  Los Angeles           24\n"
     ]
    }
   ],
   "source": [
    "import pandas as pd\n",
    "\n",
    "data = {\n",
    "    'date': ['2025-01-01', '2025-01-01', '2025-01-02', '2025-01-02'],\n",
    "    'city': ['New York', 'Los Angeles', 'New York', 'Los Angeles'],\n",
    "    'temperature': [30, 25, 28, 24]\n",
    "}\n",
    "df = pd.DataFrame(data)\n",
    "print(df)"
   ]
  },
  {
   "cell_type": "code",
   "execution_count": 6,
   "metadata": {},
   "outputs": [
    {
     "name": "stdout",
     "output_type": "stream",
     "text": [
      "city        Los Angeles  New York\n",
      "date                             \n",
      "2025-01-01           25        30\n",
      "2025-01-02           24        28\n"
     ]
    }
   ],
   "source": [
    "df_pivot = df.pivot(index='date', columns='city', values='temperature')\n",
    "print(df_pivot)"
   ]
  },
  {
   "cell_type": "raw",
   "metadata": {},
   "source": [
    "Here:\n",
    "\n",
    "The index is date.\n",
    "The columns are the unique values of city.\n",
    "The values are taken from the temperature column."
   ]
  },
  {
   "cell_type": "code",
   "execution_count": 8,
   "metadata": {},
   "outputs": [
    {
     "data": {
      "text/html": [
       "<div>\n",
       "<style scoped>\n",
       "    .dataframe tbody tr th:only-of-type {\n",
       "        vertical-align: middle;\n",
       "    }\n",
       "\n",
       "    .dataframe tbody tr th {\n",
       "        vertical-align: top;\n",
       "    }\n",
       "\n",
       "    .dataframe thead th {\n",
       "        text-align: right;\n",
       "    }\n",
       "</style>\n",
       "<table border=\"1\" class=\"dataframe\">\n",
       "  <thead>\n",
       "    <tr style=\"text-align: right;\">\n",
       "      <th></th>\n",
       "      <th>date</th>\n",
       "      <th>city</th>\n",
       "      <th>temperature</th>\n",
       "      <th>humidity</th>\n",
       "    </tr>\n",
       "  </thead>\n",
       "  <tbody>\n",
       "    <tr>\n",
       "      <th>0</th>\n",
       "      <td>2025-01-01</td>\n",
       "      <td>New York</td>\n",
       "      <td>30</td>\n",
       "      <td>70</td>\n",
       "    </tr>\n",
       "    <tr>\n",
       "      <th>1</th>\n",
       "      <td>2025-01-01</td>\n",
       "      <td>Los Angeles</td>\n",
       "      <td>25</td>\n",
       "      <td>65</td>\n",
       "    </tr>\n",
       "    <tr>\n",
       "      <th>2</th>\n",
       "      <td>2025-01-02</td>\n",
       "      <td>New York</td>\n",
       "      <td>28</td>\n",
       "      <td>75</td>\n",
       "    </tr>\n",
       "    <tr>\n",
       "      <th>3</th>\n",
       "      <td>2025-01-02</td>\n",
       "      <td>Los Angeles</td>\n",
       "      <td>24</td>\n",
       "      <td>60</td>\n",
       "    </tr>\n",
       "  </tbody>\n",
       "</table>\n",
       "</div>"
      ],
      "text/plain": [
       "         date         city  temperature  humidity\n",
       "0  2025-01-01     New York           30        70\n",
       "1  2025-01-01  Los Angeles           25        65\n",
       "2  2025-01-02     New York           28        75\n",
       "3  2025-01-02  Los Angeles           24        60"
      ]
     },
     "execution_count": 8,
     "metadata": {},
     "output_type": "execute_result"
    }
   ],
   "source": [
    "#Pivot Without Specifying values\n",
    "#If you do not specify the values parameter, all remaining columns are used as values.\n",
    "data = {\n",
    "    'date': ['2025-01-01', '2025-01-01', '2025-01-02', '2025-01-02'],\n",
    "    'city': ['New York', 'Los Angeles', 'New York', 'Los Angeles'],\n",
    "    'temperature': [30, 25, 28, 24],\n",
    "    'humidity': [70, 65, 75, 60]\n",
    "}\n",
    "df = pd.DataFrame(data)\n",
    "df\n"
   ]
  },
  {
   "cell_type": "markdown",
   "metadata": {},
   "source": []
  },
  {
   "cell_type": "code",
   "execution_count": 9,
   "metadata": {},
   "outputs": [
    {
     "name": "stdout",
     "output_type": "stream",
     "text": [
      "           temperature             humidity         \n",
      "city       Los Angeles New York Los Angeles New York\n",
      "date                                                \n",
      "2025-01-01          25       30          65       70\n",
      "2025-01-02          24       28          60       75\n"
     ]
    }
   ],
   "source": [
    "df_pivot = df.pivot(index='date', columns='city')\n",
    "print(df_pivot)"
   ]
  },
  {
   "cell_type": "raw",
   "metadata": {
    "vscode": {
     "languageId": "raw"
    }
   },
   "source": [
    "Here:\n",
    "\n",
    "The index is date.\n",
    "The columns are the unique values of city.\n",
    "Both temperature and humidity are unstacked into the new columns."
   ]
  },
  {
   "cell_type": "raw",
   "metadata": {
    "vscode": {
     "languageId": "raw"
    }
   },
   "source": [
    "Error: When Pivot Doesn't Work\n",
    "Pivot will throw a ValueError if the combination of index and columns is not unique.\n",
    "\n",
    "Example:\n",
    "python\n",
    "Copy code\n",
    "data = {\n",
    "    'date': ['2025-01-01', '2025-01-01', '2025-01-01'],\n",
    "    'city': ['New York', 'New York', 'Los Angeles'],\n",
    "    'temperature': [30, 28, 25]\n",
    "}\n",
    "df = pd.DataFrame(data)\n",
    "# This will raise an error because \"2025-01-01\" and \"New York\" are not unique.\n",
    "df.pivot(index='date', columns='city', values='temperature')"
   ]
  },
  {
   "cell_type": "raw",
   "metadata": {},
   "source": []
  }
 ],
 "metadata": {
  "kernelspec": {
   "display_name": "base",
   "language": "python",
   "name": "python3"
  },
  "language_info": {
   "codemirror_mode": {
    "name": "ipython",
    "version": 3
   },
   "file_extension": ".py",
   "mimetype": "text/x-python",
   "name": "python",
   "nbconvert_exporter": "python",
   "pygments_lexer": "ipython3",
   "version": "3.12.7"
  }
 },
 "nbformat": 4,
 "nbformat_minor": 2
}
