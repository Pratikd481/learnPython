{
 "cells": [
  {
   "cell_type": "markdown",
   "metadata": {},
   "source": [
    "# Dataframe"
   ]
  },
  {
   "cell_type": "code",
   "execution_count": 2,
   "metadata": {},
   "outputs": [
    {
     "name": "stdout",
     "output_type": "stream",
     "text": [
      "   0\n",
      "0  1\n",
      "1  2\n",
      "2  3\n",
      "3  4\n",
      "4  5\n",
      "<class 'pandas.core.frame.DataFrame'>\n"
     ]
    }
   ],
   "source": [
    "import pandas as pd\n",
    "\n",
    "l = [1, 2, 3, 4, 5]\n",
    "d = pd.DataFrame(l)\n",
    "\n",
    "print(d)\n",
    "print(type(d))"
   ]
  },
  {
   "cell_type": "code",
   "execution_count": 3,
   "metadata": {},
   "outputs": [
    {
     "name": "stdout",
     "output_type": "stream",
     "text": [
      "   a   b\n",
      "0  1   6\n",
      "1  2   7\n",
      "2  3   8\n",
      "3  4   9\n",
      "4  5  10\n",
      "<class 'pandas.core.frame.DataFrame'>\n"
     ]
    }
   ],
   "source": [
    "# dataframe with dictionary\n",
    "\n",
    "import pandas as pd\n",
    "\n",
    "d = {'a': [1, 2, 3, 4, 5], 'b': [6, 7, 8, 9, 10]}\n",
    "\n",
    "df = pd.DataFrame(d)\n",
    "print(df)\n",
    "print(type(df))"
   ]
  },
  {
   "cell_type": "code",
   "execution_count": 13,
   "metadata": {},
   "outputs": [
    {
     "name": "stdout",
     "output_type": "stream",
     "text": [
      "   a   c\n",
      "0  1  11\n",
      "1  2  12\n",
      "2  3  13\n",
      "3  4  14\n",
      "4  5  15\n",
      "<class 'pandas.core.frame.DataFrame'>\n",
      "\n",
      "       a   c\n",
      "one    1  11\n",
      "two    2  12\n",
      "three  3  13\n",
      "four   4  14\n",
      "five   5  15\n",
      "<class 'pandas.core.frame.DataFrame'>\n",
      "3\n"
     ]
    }
   ],
   "source": [
    "# dataframe with columns\n",
    "\n",
    "import pandas as pd\n",
    "\n",
    "d = {'a': [1, 2, 3, 4, 5], 'b': [6, 7, 8, 9, 10], 'c': [11, 12, 13, 14, 15]}\n",
    "\n",
    "df = pd.DataFrame(d, columns=['a', 'c'])\n",
    "\n",
    "print(df)\n",
    "print(type(df))\n",
    "print()\n",
    "#change index\n",
    "df2 = pd.DataFrame(d, columns=['a', 'c'], index=['one', 'two', 'three', 'four', 'five'])\n",
    "\n",
    "print(df2)\n",
    "print(type(df2))\n",
    "print(df2[\"a\"][\"three\"]) # explain why column first and then row : because it is a dictionary"
   ]
  },
  {
   "cell_type": "markdown",
   "metadata": {},
   "source": [
    "In a 2-dimensional matrix or a nested list (as in traditional linear algebra or in NumPy), the convention is to specify the row first, then the column. For example:\n",
    "\n",
    "In a typical matrix:\n",
    "\n",
    "python\n",
    "Copy code\n",
    "matrix = [\n",
    "    [1, 2, 3],   # Row 0\n",
    "    [4, 5, 6],   # Row 1\n",
    "    [7, 8, 9]    # Row 2\n",
    "]\n",
    "\n",
    "# Accessing the element in the 2nd row and 3rd column\n",
    "print(matrix[1][2])  # Output: 6"
   ]
  },
  {
   "cell_type": "markdown",
   "metadata": {},
   "source": []
  },
  {
   "cell_type": "raw",
   "metadata": {
    "vscode": {
     "languageId": "raw"
    }
   },
   "source": [
    "Here, matrix[1][2] means:\n",
    "\n",
    "matrix[1] → Row 1 (indexing starts at 0).\n",
    "[2] → Column 2 in that row.\n"
   ]
  },
  {
   "cell_type": "markdown",
   "metadata": {},
   "source": [
    "Why is Pandas Different?\n",
    "Pandas is not just a 2D array or matrix; it is a labeled, column-oriented data structure. Its design reflects its focus on data analysis and manipulation, where:\n",
    "\n",
    "Columns are central:\n",
    "\n",
    "Pandas treats each column as a Series (a labeled 1D array).\n",
    "When you access df2[\"a\"], you retrieve the Series for column 'a'.\n",
    "You then drill down further into that Series using a row label or index, e.g., [\"three\"].\n",
    "Label-Based Indexing:\n",
    "\n",
    "Pandas emphasizes labels (like column names and row indices) over positional indexing. This abstraction makes it more flexible than traditional matrices.\n",
    "Example: Using .loc[\"row_label\", \"column_label\"] or .iloc[row_position, column_position]."
   ]
  },
  {
   "cell_type": "code",
   "execution_count": 17,
   "metadata": {},
   "outputs": [
    {
     "name": "stdout",
     "output_type": "stream",
     "text": [
      "   0  1  2\n",
      "0  1  2  3\n",
      "1  4  5  6\n",
      "2  7  8  9\n",
      "\n",
      "   a  b  c\n",
      "0  1  2  3\n",
      "1  4  5  6\n",
      "2  7  8  9\n"
     ]
    }
   ],
   "source": [
    "#dataframe with list\n",
    "\n",
    "import pandas as pd\n",
    "\n",
    "list = [[1, 2, 3], [4, 5, 6], [7, 8, 9]]\n",
    "\n",
    "df = pd.DataFrame(list)\n",
    "print  (df)\n",
    "print()\n",
    "df2 = pd.DataFrame(list, columns=['a', 'b', 'c'])   \n",
    "print(df2)"
   ]
  },
  {
   "cell_type": "code",
   "execution_count": null,
   "metadata": {},
   "outputs": [],
   "source": []
  }
 ],
 "metadata": {
  "kernelspec": {
   "display_name": "base",
   "language": "python",
   "name": "python3"
  },
  "language_info": {
   "codemirror_mode": {
    "name": "ipython",
    "version": 3
   },
   "file_extension": ".py",
   "mimetype": "text/x-python",
   "name": "python",
   "nbconvert_exporter": "python",
   "pygments_lexer": "ipython3",
   "version": "3.12.7"
  }
 },
 "nbformat": 4,
 "nbformat_minor": 2
}
